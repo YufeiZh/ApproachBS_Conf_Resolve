{
 "cells": [
  {
   "cell_type": "code",
   "execution_count": 1,
   "metadata": {},
   "outputs": [],
   "source": [
    "import bluesky as bs\n",
    "from pathlib import Path\n",
    "import shutil\n",
    "import os"
   ]
  },
  {
   "cell_type": "markdown",
   "metadata": {},
   "source": [
    "Install `approachbs.py` to BlueSky."
   ]
  },
  {
   "cell_type": "code",
   "execution_count": 5,
   "metadata": {},
   "outputs": [
    {
     "name": "stdout",
     "output_type": "stream",
     "text": [
      "Installed ApproachBS plugin to /Users/yufei/Documents/my_projects/appbs/ApproachBS_Server/.venv/lib/python3.13/site-packages/bluesky/plugins\n"
     ]
    },
    {
     "data": {
      "text/plain": [
       "True"
      ]
     },
     "execution_count": 5,
     "metadata": {},
     "output_type": "execute_result"
    }
   ],
   "source": [
    "def install_plugin():\n",
    "    # Get the BlueSky plugins directory\n",
    "    bs_dir = Path(bs.__file__).parent\n",
    "    plugins_dir = bs_dir / 'plugins'\n",
    "\n",
    "    if not plugins_dir.exists():\n",
    "        print(f\"BlueSky plugins directory not found at {plugins_dir}.\")\n",
    "        return False\n",
    "    \n",
    "    try:\n",
    "        source_file = 'approachbs.py'\n",
    "    except:\n",
    "        print(f\"Plugin not found at {source_file}\")\n",
    "        return False\n",
    "    \n",
    "    try:\n",
    "        shutil.copy(source_file, plugins_dir)\n",
    "    except PermissionError:\n",
    "        print(f\"Permission denied when trying to copy to {plugins_dir}.\")\n",
    "        return False\n",
    "    print(f\"Installed ApproachBS plugin to {plugins_dir}\")\n",
    "    return True\n",
    "\n",
    "install_plugin()"
   ]
  },
  {
   "cell_type": "markdown",
   "metadata": {},
   "source": [
    "Echo message manipulation"
   ]
  },
  {
   "cell_type": "code",
   "execution_count": 6,
   "metadata": {},
   "outputs": [],
   "source": [
    "captured_messages = []\n",
    "num_messages = 0\n",
    "\n",
    "def print_messages():\n",
    "    global num_messages\n",
    "    if len(captured_messages) > num_messages:\n",
    "        for i in range(num_messages, len(captured_messages)):\n",
    "            print(captured_messages[i][0])\n",
    "    num_messages = len(captured_messages)\n",
    "\n",
    "def clear_messages():\n",
    "    global num_messages\n",
    "    captured_messages.clear()\n",
    "    num_messages = 0\n",
    "\n",
    "def my_echo(text='', flags=0):\n",
    "    captured_messages.append((text, flags))"
   ]
  },
  {
   "cell_type": "code",
   "execution_count": 7,
   "metadata": {},
   "outputs": [
    {
     "name": "stdout",
     "output_type": "stream",
     "text": [
      "Reading config from /Users/yufei/bluesky/settings.cfg\n",
      "Using compiled geo functions\n",
      "Reading magnetic variation data\n",
      "Warning: RTree could not be loaded. areafilter get_intersecting and get_knearest won't work\n",
      "Loading global navigation database...\n",
      "Reading cache: /Users/yufei/bluesky/cache/navdata.p\n",
      "Successfully loaded OpenAP performance model\n",
      "Failed to load BADA performance model\n",
      "Successfully loaded legacy performance model\n",
      "Successfully loaded plugin AREA\n",
      "Successfully loaded plugin DATAFEED\n",
      "simt is 0.0, simdt is 0.05\n",
      "Successfully loaded plugin APPROACHBS\n",
      "Selected StateBased as CD method.\n"
     ]
    }
   ],
   "source": [
    "bs.init(mode='sim', detached=True)\n",
    "# Override Echo method in BlueSky\n",
    "bs.scr.echo = my_echo\n",
    "# Load ApproachBS as a plugin\n",
    "bs.stack.stack('PLUGINS LOAD APPROACHBS')\n",
    "print(f\"simt is {bs.sim.simt}, simdt is {bs.sim.simdt}\")\n",
    "bs.sim.step()\n",
    "print_messages()"
   ]
  },
  {
   "cell_type": "code",
   "execution_count": 8,
   "metadata": {},
   "outputs": [
    {
     "name": "stdout",
     "output_type": "stream",
     "text": [
      "\n",
      "Currently running sim plugins: DATAFEED, AREA, APPROACHBS\n",
      "Available sim plugins: METRICS, WINDECMWF, SWARM, GEOVECTOR, MLCONTROL, GEOFENCE, SYNTHETIC, EXAMPLE, TRAFGEN, STACKCHECK, SECTORCOUNT, OPENSKY, IMPORTEX, WINDGFS, EBY, ILSGATE, SSD\n",
      "simt is 0.0, simdt is 0.05\n"
     ]
    }
   ],
   "source": [
    "bs.stack.stack(f'PLUGINS LIST')\n",
    "bs.sim.step()\n",
    "print_messages()\n",
    "print(f\"simt is {bs.sim.simt}, simdt is {bs.sim.simdt}\")"
   ]
  },
  {
   "cell_type": "code",
   "execution_count": 9,
   "metadata": {},
   "outputs": [],
   "source": [
    "approach_bs = bs.plugins.approachbs.approach_bs"
   ]
  },
  {
   "cell_type": "code",
   "execution_count": 7,
   "metadata": {},
   "outputs": [
    {
     "data": {
      "text/plain": [
       "(0,)"
      ]
     },
     "execution_count": 7,
     "metadata": {},
     "output_type": "execute_result"
    }
   ],
   "source": [
    "approach_bs.take_over.shape"
   ]
  },
  {
   "cell_type": "code",
   "execution_count": 10,
   "metadata": {},
   "outputs": [],
   "source": [
    "approach_bs.tracon.reset()"
   ]
  },
  {
   "cell_type": "code",
   "execution_count": 11,
   "metadata": {},
   "outputs": [
    {
     "data": {
      "text/plain": [
       "True"
      ]
     },
     "execution_count": 11,
     "metadata": {},
     "output_type": "execute_result"
    }
   ],
   "source": [
    "\"VDEAST\" in bs.navdb.wpid"
   ]
  },
  {
   "cell_type": "code",
   "execution_count": 12,
   "metadata": {},
   "outputs": [],
   "source": [
    "bs.stack.stack(\"APPBS_ACTIVATE\")"
   ]
  },
  {
   "cell_type": "code",
   "execution_count": 12,
   "metadata": {},
   "outputs": [
    {
     "data": {
      "text/plain": [
       "{'VDEAST': array([   37.6152 ,  -121.42869, 10000.     ]),\n",
       " 'VDSOUTH': array([   36.8694,  -122.375 , 10000.    ]),\n",
       " 'VDWEST': array([   37.6152 ,  -123.32131, 10000.     ]),\n",
       " 'VDNORTH': array([   38.3686,  -122.375 , 10000.    ])}"
      ]
     },
     "execution_count": 12,
     "metadata": {},
     "output_type": "execute_result"
    }
   ],
   "source": [
    "approach_bs.tracon.depart_wp"
   ]
  },
  {
   "cell_type": "code",
   "execution_count": 21,
   "metadata": {},
   "outputs": [
    {
     "data": {
      "text/plain": [
       "True"
      ]
     },
     "execution_count": 21,
     "metadata": {},
     "output_type": "execute_result"
    }
   ],
   "source": [
    "bs.navdb.defwpt(\"VDEAST\", 37.6152, -121.42869, \"FIX\")"
   ]
  },
  {
   "cell_type": "code",
   "execution_count": 22,
   "metadata": {},
   "outputs": [
    {
     "data": {
      "text/plain": [
       "'VDEAST'"
      ]
     },
     "execution_count": 22,
     "metadata": {},
     "output_type": "execute_result"
    }
   ],
   "source": [
    "bs.navdb.wpid[-1]"
   ]
  },
  {
   "cell_type": "code",
   "execution_count": 14,
   "metadata": {},
   "outputs": [],
   "source": [
    "bs.stack.stack(\"APPBS_CRE TEST01, A320, KSFO, RW28L, 0, 0, 0, DEPARTURE, VDEAST\")"
   ]
  },
  {
   "cell_type": "code",
   "execution_count": 9,
   "metadata": {},
   "outputs": [],
   "source": [
    "bs.stack.stack(\"APPBS_CRE TEST01, A320, KSFO, RW28L, 0, 0, 0, DEPARTURE\")"
   ]
  },
  {
   "cell_type": "code",
   "execution_count": 15,
   "metadata": {},
   "outputs": [
    {
     "name": "stdout",
     "output_type": "stream",
     "text": [
      "TEST01 A320 37.61169441 -122.35837447000002 0.0 0.0 0.0 DEPARTURE 37.6152 -121.42869\n"
     ]
    }
   ],
   "source": [
    "bs.sim.step()\n",
    "print_messages()"
   ]
  },
  {
   "cell_type": "markdown",
   "metadata": {},
   "source": [
    "Test Tracon class"
   ]
  },
  {
   "cell_type": "code",
   "execution_count": 9,
   "metadata": {},
   "outputs": [
    {
     "name": "stdout",
     "output_type": "stream",
     "text": [
      "TRACON KSFO_DEFAULT is activated.\n"
     ]
    },
    {
     "data": {
      "text/plain": [
       "True"
      ]
     },
     "execution_count": 9,
     "metadata": {},
     "output_type": "execute_result"
    }
   ],
   "source": [
    "approach_bs.tracon.activate()"
   ]
  },
  {
   "cell_type": "code",
   "execution_count": 10,
   "metadata": {},
   "outputs": [
    {
     "name": "stdout",
     "output_type": "stream",
     "text": [
      "Error: Cannot add restricted area to an active TRACON.\n"
     ]
    },
    {
     "data": {
      "text/plain": [
       "False"
      ]
     },
     "execution_count": 10,
     "metadata": {},
     "output_type": "execute_result"
    }
   ],
   "source": [
    "approach_bs.tracon.add_restricted([])"
   ]
  },
  {
   "cell_type": "code",
   "execution_count": 5,
   "metadata": {},
   "outputs": [],
   "source": [
    "bs.sim.quit()"
   ]
  },
  {
   "cell_type": "code",
   "execution_count": 21,
   "metadata": {},
   "outputs": [
    {
     "ename": "AttributeError",
     "evalue": "'RefData' object has no attribute '__file__'",
     "output_type": "error",
     "traceback": [
      "\u001b[1;31m---------------------------------------------------------------------------\u001b[0m",
      "\u001b[1;31mAttributeError\u001b[0m                            Traceback (most recent call last)",
      "Cell \u001b[1;32mIn[21], line 1\u001b[0m\n\u001b[1;32m----> 1\u001b[0m \u001b[38;5;28mprint\u001b[39m(\u001b[43mbs\u001b[49m\u001b[38;5;241;43m.\u001b[39;49m\u001b[43mref\u001b[49m\u001b[38;5;241;43m.\u001b[39;49m\u001b[38;5;18;43m__file__\u001b[39;49m)\n",
      "\u001b[1;31mAttributeError\u001b[0m: 'RefData' object has no attribute '__file__'"
     ]
    }
   ],
   "source": [
    "print(bs.ref.__file__)"
   ]
  },
  {
   "cell_type": "code",
   "execution_count": null,
   "metadata": {},
   "outputs": [
    {
     "name": "stdout",
     "output_type": "stream",
     "text": [
      "Info on TEST01 B738 index = 0\n",
      "Pos: N37'33'59.0\"  W122'26'7.0\"\n",
      "Hdg: 210   Trk: 210\n",
      "Alt: 8000 ft  V/S: 0 fpm\n",
      "CAS/TAS/GS: 251/281/281 kts   M: 0.437\n",
      "\n",
      "Info on TEST01 B738 index = 0\n",
      "Pos: N37'33'59.0\"  W122'26'7.0\"\n",
      "Hdg: 210   Trk: 210\n",
      "Alt: 8000 ft  V/S: 0 fpm\n",
      "CAS/TAS/GS: 251/281/281 kts   M: 0.437\n",
      "\n",
      "Info on TEST01 B738 index = 0\n",
      "Pos: N37'33'58.0\"  W122'26'8.0\"\n",
      "Hdg: 210   Trk: 210\n",
      "Alt: 8000 ft  V/S: 0 fpm\n",
      "CAS/TAS/GS: 251/281/281 kts   M: 0.437\n",
      "\n",
      "Info on TEST01 B738 index = 0\n",
      "Pos: N37'33'58.0\"  W122'26'8.0\"\n",
      "Hdg: 210   Trk: 210\n",
      "Alt: 8000 ft  V/S: 0 fpm\n",
      "CAS/TAS/GS: 251/281/281 kts   M: 0.437\n",
      "\n",
      "Info on TEST01 B738 index = 0\n",
      "Pos: N37'33'58.0\"  W122'26'8.0\"\n",
      "Hdg: 210   Trk: 210\n",
      "Alt: 8000 ft  V/S: 0 fpm\n",
      "CAS/TAS/GS: 251/281/281 kts   M: 0.437\n",
      "\n",
      "Info on TEST01 B738 index = 0\n",
      "Pos: N37'33'58.0\"  W122'26'8.0\"\n",
      "Hdg: 210   Trk: 210\n",
      "Alt: 8000 ft  V/S: 0 fpm\n",
      "CAS/TAS/GS: 251/281/281 kts   M: 0.437\n",
      "\n",
      "Info on TEST01 B738 index = 0\n",
      "Pos: N37'33'58.0\"  W122'26'8.0\"\n",
      "Hdg: 210   Trk: 210\n",
      "Alt: 8000 ft  V/S: 0 fpm\n",
      "CAS/TAS/GS: 251/281/281 kts   M: 0.437\n",
      "\n",
      "Info on TEST01 B738 index = 0\n",
      "Pos: N37'33'57.0\"  W122'26'8.0\"\n",
      "Hdg: 210   Trk: 210\n",
      "Alt: 8000 ft  V/S: 0 fpm\n",
      "CAS/TAS/GS: 251/281/281 kts   M: 0.437\n",
      "\n",
      "Info on TEST01 B738 index = 0\n",
      "Pos: N37'33'57.0\"  W122'26'8.0\"\n",
      "Hdg: 210   Trk: 210\n",
      "Alt: 8000 ft  V/S: 0 fpm\n",
      "CAS/TAS/GS: 251/281/281 kts   M: 0.437\n",
      "\n",
      "Info on TEST01 B738 index = 0\n",
      "Pos: N37'33'57.0\"  W122'26'9.0\"\n",
      "Hdg: 210   Trk: 210\n",
      "Alt: 8000 ft  V/S: 0 fpm\n",
      "CAS/TAS/GS: 251/281/281 kts   M: 0.437\n",
      "\n",
      "Info on TEST01 B738 index = 0\n",
      "Pos: N37'33'57.0\"  W122'26'9.0\"\n",
      "Hdg: 210   Trk: 210\n",
      "Alt: 8000 ft  V/S: 0 fpm\n",
      "CAS/TAS/GS: 251/281/281 kts   M: 0.437\n",
      "\n",
      "Info on TEST01 B738 index = 0\n",
      "Pos: N37'33'57.0\"  W122'26'9.0\"\n",
      "Hdg: 210   Trk: 210\n",
      "Alt: 8000 ft  V/S: 0 fpm\n",
      "CAS/TAS/GS: 251/281/281 kts   M: 0.437\n",
      "\n",
      "Info on TEST01 B738 index = 0\n",
      "Pos: N37'33'56.0\"  W122'26'9.0\"\n",
      "Hdg: 210   Trk: 210\n",
      "Alt: 8000 ft  V/S: 0 fpm\n",
      "CAS/TAS/GS: 251/281/281 kts   M: 0.437\n",
      "\n",
      "Info on TEST01 B738 index = 0\n",
      "Pos: N37'33'56.0\"  W122'26'9.0\"\n",
      "Hdg: 210   Trk: 210\n",
      "Alt: 8000 ft  V/S: 0 fpm\n",
      "CAS/TAS/GS: 251/281/281 kts   M: 0.437\n",
      "\n",
      "Info on TEST01 B738 index = 0\n",
      "Pos: N37'33'56.0\"  W122'26'9.0\"\n",
      "Hdg: 210   Trk: 210\n",
      "Alt: 8000 ft  V/S: 0 fpm\n",
      "CAS/TAS/GS: 251/281/281 kts   M: 0.437\n",
      "\n",
      "Info on TEST01 B738 index = 0\n",
      "Pos: N37'33'56.0\"  W122'26'9.0\"\n",
      "Hdg: 210   Trk: 210\n",
      "Alt: 8000 ft  V/S: 0 fpm\n",
      "CAS/TAS/GS: 251/281/281 kts   M: 0.437\n",
      "\n",
      "Info on TEST01 B738 index = 0\n",
      "Pos: N37'33'56.0\"  W122'26'10.0\"\n",
      "Hdg: 210   Trk: 210\n",
      "Alt: 8000 ft  V/S: 0 fpm\n",
      "CAS/TAS/GS: 251/281/281 kts   M: 0.437\n",
      "\n",
      "Info on TEST01 B738 index = 0\n",
      "Pos: N37'33'55.0\"  W122'26'10.0\"\n",
      "Hdg: 210   Trk: 210\n",
      "Alt: 8000 ft  V/S: 0 fpm\n",
      "CAS/TAS/GS: 251/281/281 kts   M: 0.437\n",
      "\n",
      "Info on TEST01 B738 index = 0\n",
      "Pos: N37'33'55.0\"  W122'26'10.0\"\n",
      "Hdg: 210   Trk: 210\n",
      "Alt: 8000 ft  V/S: 0 fpm\n",
      "CAS/TAS/GS: 251/281/281 kts   M: 0.437\n",
      "\n",
      "Info on TEST01 B738 index = 0\n",
      "Pos: N37'33'55.0\"  W122'26'10.0\"\n",
      "Hdg: 210   Trk: 210\n",
      "Alt: 8000 ft  V/S: 0 fpm\n",
      "CAS/TAS/GS: 251/281/281 kts   M: 0.437\n",
      "\n",
      "65.65\n"
     ]
    }
   ],
   "source": [
    "for _ in range(20):\n",
    "    bs.sim.step()\n",
    "    print_messages()\n",
    "print(bs.sim.simt)"
   ]
  }
 ],
 "metadata": {
  "kernelspec": {
   "display_name": "venv",
   "language": "python",
   "name": "python3"
  },
  "language_info": {
   "codemirror_mode": {
    "name": "ipython",
    "version": 3
   },
   "file_extension": ".py",
   "mimetype": "text/x-python",
   "name": "python",
   "nbconvert_exporter": "python",
   "pygments_lexer": "ipython3",
   "version": "3.12.1"
  }
 },
 "nbformat": 4,
 "nbformat_minor": 2
}

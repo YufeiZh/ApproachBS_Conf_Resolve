{
 "cells": [
  {
   "cell_type": "code",
   "execution_count": 1,
   "metadata": {},
   "outputs": [],
   "source": [
    "import bluesky as bs\n",
    "from pathlib import Path\n",
    "import shutil"
   ]
  },
  {
   "cell_type": "markdown",
   "metadata": {},
   "source": [
    "Install `approachbs.py` to BlueSky."
   ]
  },
  {
   "cell_type": "code",
   "execution_count": 2,
   "metadata": {},
   "outputs": [
    {
     "name": "stdout",
     "output_type": "stream",
     "text": [
      "Installed ApproachBS plugin to c:\\myprojects\\venv\\Lib\\site-packages\\bluesky\\plugins\n"
     ]
    },
    {
     "data": {
      "text/plain": [
       "True"
      ]
     },
     "execution_count": 2,
     "metadata": {},
     "output_type": "execute_result"
    }
   ],
   "source": [
    "def install_plugin():\n",
    "    # Get the BlueSky plugins directory\n",
    "    bs_dir = Path(bs.__file__).parent\n",
    "    plugins_dir = bs_dir / 'plugins'\n",
    "\n",
    "    if not plugins_dir.exists():\n",
    "        print(f\"BlueSky plugins directory not found at {plugins_dir}.\")\n",
    "        return False\n",
    "    \n",
    "    try:\n",
    "        source_file = 'approachbs.py'\n",
    "    except:\n",
    "        print(f\"Plugin not found at {source_file}\")\n",
    "        return False\n",
    "    \n",
    "    shutil.copy(source_file, plugins_dir)\n",
    "    print(f\"Installed ApproachBS plugin to {plugins_dir}\")\n",
    "    return True\n",
    "\n",
    "install_plugin()"
   ]
  },
  {
   "cell_type": "markdown",
   "metadata": {},
   "source": [
    "Echo message manipulation"
   ]
  },
  {
   "cell_type": "code",
   "execution_count": 2,
   "metadata": {},
   "outputs": [],
   "source": [
    "captured_messages = []\n",
    "num_messages = 0\n",
    "\n",
    "def print_messages():\n",
    "    global num_messages\n",
    "    if len(captured_messages) > num_messages:\n",
    "        for i in range(num_messages, len(captured_messages)):\n",
    "            print(captured_messages[i][0])\n",
    "    num_messages = len(captured_messages)\n",
    "\n",
    "def clear_messages():\n",
    "    global num_messages\n",
    "    captured_messages.clear()\n",
    "    num_messages = 0\n",
    "\n",
    "def my_echo(text='', flags=0):\n",
    "    captured_messages.append((text, flags))"
   ]
  },
  {
   "cell_type": "code",
   "execution_count": 3,
   "metadata": {},
   "outputs": [
    {
     "name": "stdout",
     "output_type": "stream",
     "text": [
      "Reading config from C:\\Users\\zyf36\\bluesky\\settings.cfg\n",
      "Using compiled geo functions\n",
      "Reading magnetic variation data\n",
      "Warning: RTree could not be loaded. areafilter get_intersecting and get_knearest won't work\n",
      "Loading global navigation database...\n",
      "Reading cache: C:\\Users\\zyf36\\bluesky\\cache\\navdata.p\n",
      "Successfully loaded OpenAP performance model\n",
      "Failed to load BADA performance model\n",
      "Successfully loaded legacy performance model\n",
      "Successfully loaded plugin AREA\n",
      "Successfully loaded plugin DATAFEED\n",
      "simt is 0.0, simdt is 0.05\n",
      "Successfully loaded plugin APPROACHBS\n"
     ]
    }
   ],
   "source": [
    "bs.init(mode='sim', detached=True)\n",
    "# Override Echo method in BlueSky\n",
    "bs.scr.echo = my_echo\n",
    "# Load ApproachBS as a plugin\n",
    "bs.stack.stack('PLUGINS LOAD APPROACHBS')\n",
    "print(f\"simt is {bs.sim.simt}, simdt is {bs.sim.simdt}\")\n",
    "bs.sim.step()\n",
    "print_messages()"
   ]
  },
  {
   "cell_type": "code",
   "execution_count": 4,
   "metadata": {},
   "outputs": [
    {
     "name": "stdout",
     "output_type": "stream",
     "text": [
      "\n",
      "Currently running sim plugins: APPROACHBS, DATAFEED, AREA\n",
      "Available sim plugins: WINDECMWF, STACKCHECK, EBY, EXAMPLE, SYNTHETIC, IMPORTEX, SSD, OPENSKY, GEOVECTOR, SECTORCOUNT, ILSGATE, GEOFENCE, MLCONTROL, SWARM, WINDGFS, METRICS, TRAFGEN\n",
      "simt is 0.0, simdt is 0.05\n"
     ]
    }
   ],
   "source": [
    "bs.stack.stack(f'PLUGINS LIST')\n",
    "bs.sim.step()\n",
    "print_messages()\n",
    "print(f\"simt is {bs.sim.simt}, simdt is {bs.sim.simdt}\")"
   ]
  },
  {
   "cell_type": "code",
   "execution_count": 33,
   "metadata": {},
   "outputs": [
    {
     "name": "stdout",
     "output_type": "stream",
     "text": [
      "0: simt is 0.1, simdt is 0.05\n",
      "1: simt is 0.15, simdt is 0.05\n",
      "2: simt is 0.2, simdt is 0.05\n",
      "3: simt is 0.25, simdt is 0.05\n",
      "4: simt is 0.3, simdt is 0.05\n",
      "5: simt is 0.35, simdt is 0.05\n",
      "6: simt is 0.4, simdt is 0.05\n",
      "7: simt is 0.45, simdt is 0.05\n",
      "8: simt is 0.5, simdt is 0.05\n",
      "9: simt is 0.55, simdt is 0.05\n",
      "10: simt is 0.6, simdt is 0.05\n",
      "11: simt is 0.65, simdt is 0.05\n",
      "12: simt is 0.7, simdt is 0.05\n",
      "13: simt is 0.75, simdt is 0.05\n",
      "14: simt is 0.8, simdt is 0.05\n"
     ]
    }
   ],
   "source": [
    "for i in range(15):\n",
    "    bs.sim.step()\n",
    "    print_messages()\n",
    "    print(f\"{i}: simt is {bs.sim.simt}, simdt is {bs.sim.simdt}\")"
   ]
  },
  {
   "cell_type": "code",
   "execution_count": 67,
   "metadata": {},
   "outputs": [],
   "source": [
    "bs.stack.stack(\"MCRE 15\")"
   ]
  },
  {
   "cell_type": "code",
   "execution_count": 68,
   "metadata": {},
   "outputs": [
    {
     "name": "stdout",
     "output_type": "stream",
     "text": [
      "1.1\n"
     ]
    }
   ],
   "source": [
    "bs.sim.step()\n",
    "print(bs.sim.simt)"
   ]
  },
  {
   "cell_type": "code",
   "execution_count": 25,
   "metadata": {},
   "outputs": [
    {
     "data": {
      "text/plain": [
       "True"
      ]
     },
     "execution_count": 25,
     "metadata": {},
     "output_type": "execute_result"
    }
   ],
   "source": [
    "bs.traf.cre(\"TEST3\")"
   ]
  },
  {
   "cell_type": "code",
   "execution_count": 14,
   "metadata": {},
   "outputs": [
    {
     "data": {
      "text/plain": [
       "True"
      ]
     },
     "execution_count": 14,
     "metadata": {},
     "output_type": "execute_result"
    }
   ],
   "source": [
    "bs.traf.delete(-1)"
   ]
  },
  {
   "cell_type": "code",
   "execution_count": 66,
   "metadata": {},
   "outputs": [
    {
     "data": {
      "text/plain": [
       "['KA00000',\n",
       " 'KA00001',\n",
       " 'KA00002',\n",
       " 'KA00003',\n",
       " 'KA00004',\n",
       " 'KA00005',\n",
       " 'KA00006',\n",
       " 'KA00007',\n",
       " 'KA00008',\n",
       " 'KA00009',\n",
       " 'KA00010',\n",
       " 'KA00011',\n",
       " 'KA00012',\n",
       " 'KA00013',\n",
       " 'KA00014',\n",
       " 'KA00015',\n",
       " 'KA00016',\n",
       " 'KA00017',\n",
       " 'KA00018',\n",
       " 'KA00019',\n",
       " 'KA00020',\n",
       " 'KA00021',\n",
       " 'KA00022',\n",
       " 'KA00023',\n",
       " 'KA00024',\n",
       " 'KA00025',\n",
       " 'KA00026',\n",
       " 'KA00027',\n",
       " 'KA00028',\n",
       " 'KA00029',\n",
       " 'KA00030',\n",
       " 'KA00031',\n",
       " 'KA00032',\n",
       " 'KA00033',\n",
       " 'KA00034',\n",
       " 'KA00035',\n",
       " 'KA00036',\n",
       " 'KA00037',\n",
       " 'KA00038',\n",
       " 'KA00039',\n",
       " 'KA00040',\n",
       " 'KA00041',\n",
       " 'KA00042',\n",
       " 'KA00043',\n",
       " 'KA00044',\n",
       " 'KA00045',\n",
       " 'KA00046',\n",
       " 'KA00047',\n",
       " 'TEST1',\n",
       " 'TEST2']"
      ]
     },
     "execution_count": 66,
     "metadata": {},
     "output_type": "execute_result"
    }
   ],
   "source": [
    "bs.traf.id"
   ]
  },
  {
   "cell_type": "code",
   "execution_count": 21,
   "metadata": {},
   "outputs": [
    {
     "name": "stdout",
     "output_type": "stream",
     "text": [
      "[129. 262.  89. 225. 182. 260. 189. 168. 332.  32.  56. 100.  49. 203.\n",
      " 145. 345. 137. 262.  86. 321. 282. 202. 117.  71. 163. 177. 169. 353.\n",
      " 331. 142. 238. 260.  64. 217. 132. 198. 214. 142. 304.  61.  97. 120.\n",
      " 117. 179. 118. 251. 330.  63.   0.   0.]\n"
     ]
    }
   ],
   "source": [
    "print(bs.traf.trk)"
   ]
  },
  {
   "cell_type": "code",
   "execution_count": 9,
   "metadata": {},
   "outputs": [],
   "source": [
    "approach_bs = bs.plugins.approachbs.approach_bs"
   ]
  },
  {
   "cell_type": "code",
   "execution_count": 10,
   "metadata": {},
   "outputs": [
    {
     "name": "stdout",
     "output_type": "stream",
     "text": [
      "[129. 262.  89. 225. 182. 260. 189. 168. 332.  32.  56. 100.  49. 203.\n",
      " 145. 345. 137. 262.  86. 321. 282. 202. 117.  71. 163. 177. 169. 353.\n",
      " 331. 142. 238. 260.  64. 217. 132. 198. 214. 142. 304.  61.  97. 120.\n",
      " 117. 179. 118. 251. 330.  63.   7.]\n"
     ]
    }
   ],
   "source": [
    "print(approach_bs.target_trk)"
   ]
  },
  {
   "cell_type": "code",
   "execution_count": 91,
   "metadata": {},
   "outputs": [
    {
     "data": {
      "text/plain": [
       "(50,)"
      ]
     },
     "execution_count": 91,
     "metadata": {},
     "output_type": "execute_result"
    }
   ],
   "source": [
    "approach_bs.take_over.shape"
   ]
  },
  {
   "cell_type": "code",
   "execution_count": 90,
   "metadata": {},
   "outputs": [
    {
     "name": "stdout",
     "output_type": "stream",
     "text": [
      "2.0\n"
     ]
    }
   ],
   "source": [
    "bs.sim.step()\n",
    "print(bs.sim.simt)"
   ]
  },
  {
   "cell_type": "code",
   "execution_count": 12,
   "metadata": {},
   "outputs": [
    {
     "data": {
      "text/plain": [
       "False"
      ]
     },
     "execution_count": 12,
     "metadata": {},
     "output_type": "execute_result"
    }
   ],
   "source": [
    "approach_bs.tracon.active"
   ]
  },
  {
   "cell_type": "code",
   "execution_count": 11,
   "metadata": {},
   "outputs": [],
   "source": [
    "bs.sim.quit()"
   ]
  },
  {
   "cell_type": "code",
   "execution_count": 14,
   "metadata": {},
   "outputs": [],
   "source": [
    "from bluesky import navdb"
   ]
  },
  {
   "cell_type": "code",
   "execution_count": 15,
   "metadata": {},
   "outputs": [
    {
     "data": {
      "text/plain": [
       "4194"
      ]
     },
     "execution_count": 15,
     "metadata": {},
     "output_type": "execute_result"
    }
   ],
   "source": [
    "navdb.getaptidx('KSEA')"
   ]
  },
  {
   "cell_type": "code",
   "execution_count": 16,
   "metadata": {},
   "outputs": [
    {
     "data": {
      "text/plain": [
       "dict"
      ]
     },
     "execution_count": 16,
     "metadata": {},
     "output_type": "execute_result"
    }
   ],
   "source": [
    "type(navdb.rwythresholds)"
   ]
  },
  {
   "cell_type": "code",
   "execution_count": 18,
   "metadata": {},
   "outputs": [
    {
     "data": {
      "text/plain": [
       "{'16L': (np.float64(47.46379733),\n",
       "  np.float64(-122.30775222),\n",
       "  np.float64(180.34336553175788)),\n",
       " '34R': (np.float64(47.43117533),\n",
       "  np.float64(-122.30804121999999),\n",
       "  np.float64(0.34315263763812714)),\n",
       " '16C': (np.float64(47.46381133),\n",
       "  np.float64(-122.31098822),\n",
       "  np.float64(180.33745846398807)),\n",
       " '34C': (np.float64(47.43797233),\n",
       "  np.float64(-122.31121322),\n",
       "  np.float64(0.3372927069298157)),\n",
       " '16R': (np.float64(47.46383763),\n",
       "  np.float64(-122.31786263),\n",
       "  np.float64(180.33595039452143)),\n",
       " '34L': (np.float64(47.44053695),\n",
       "  np.float64(-122.31806463),\n",
       "  np.float64(0.33580157843027797))}"
      ]
     },
     "execution_count": 18,
     "metadata": {},
     "output_type": "execute_result"
    }
   ],
   "source": [
    "navdb.rwythresholds['KSEA']"
   ]
  }
 ],
 "metadata": {
  "kernelspec": {
   "display_name": "venv",
   "language": "python",
   "name": "python3"
  },
  "language_info": {
   "codemirror_mode": {
    "name": "ipython",
    "version": 3
   },
   "file_extension": ".py",
   "mimetype": "text/x-python",
   "name": "python",
   "nbconvert_exporter": "python",
   "pygments_lexer": "ipython3",
   "version": "3.12.1"
  }
 },
 "nbformat": 4,
 "nbformat_minor": 2
}

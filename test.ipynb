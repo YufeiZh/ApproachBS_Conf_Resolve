{
 "cells": [
  {
   "cell_type": "code",
   "execution_count": 7,
   "metadata": {},
   "outputs": [],
   "source": [
    "from matplotlib.path import Path\n",
    "import numpy as np\n",
    "from bluesky.tools.aero import ft, nm, kts, fpm\n",
    "from bluesky.tools.geo import qdrpos, qdrdist"
   ]
  },
  {
   "cell_type": "code",
   "execution_count": null,
   "metadata": {},
   "outputs": [],
   "source": [
    "def invasion_circle(start_lat, start_lon, start_alt, trk, gs, vs, dtlookahead, area_args):\n",
    "    \"\"\"\n",
    "    Predict the invasion of a circular area.\n",
    "    \"\"\"\n",
    "    \n",
    "    bottom, top, ctr_lat, ctr_lon, radius = area_args\n",
    "\n",
    "    # Ray endpoints\n",
    "    end_lat, end_lon = qdrpos(start_lat, start_lon, trk, gs * dtlookahead / nm)\n",
    "\n",
    "    # Vectors\n",
    "    startpoints = np.stack([start_lat, start_lon], axis=1)\n",
    "    endpoints = np.stack([end_lat, end_lon], axis=1)\n",
    "    seg_vectors = endpoints - startpoints       # Vectors from start to end point\n",
    "    seg_vec_norm = np.linalg.norm(seg_vectors, axis=1)      # Norm of the vectors\n",
    "\n",
    "    # calculate the projection (of the startpoint-center vector) vector on the ray vector\n",
    "    start_center_vecs = np.array([[ctr_lat, ctr_lon]]) - startpoints\n",
    "    t_close = np.einsum('ij,ij->i', seg_vectors, start_center_vecs) / seg_vec_norm**2\n",
    "    t_clamped = np.clip(t_close, 0, 1)  # Clamp t to [0, 1]\n",
    "    closest_points = startpoints + t_clamped[:, np.newaxis] * seg_vectors  # Closest points on the segment to the center of the area\n",
    "    _, distance = qdrdist(closest_points[:, 0], closest_points[:, 1], ctr_lat, ctr_lon)\n",
    "    # Check if the closest point is within the radius of the area\n",
    "    inside_flag = distance < radius\n",
    "    # Get t_in and t_out\n",
    "    virtual_closest = startpoints[inside_flag] + t_close[inside_flag][:, np.newaxis] * seg_vectors[inside_flag]\n",
    "    _, virtual_distance = qdrdist(virtual_closest[:, 0], virtual_closest[:, 1], ctr_lat, ctr_lon)\n",
    "    # Use Pythagorean\n",
    "    _, dist_start_virtual = qdrdist(start_lat[inside_flag], start_lon[inside_flag], virtual_closest[:, 0], virtual_closest[:, 1])\n",
    "    delta_t = np.sqrt(radius**2 - virtual_distance**2) / dist_start_virtual * t_close[inside_flag]\n",
    "    t_in = np.clip(t_close[inside_flag] - delta_t, 0, 1)    # Clamp to [0, 1]\n",
    "    t_out = np.clip(t_close[inside_flag] + delta_t, 0, 1)   # Clamp to [0, 1]\n",
    "    # Get the altitude at t_in and t_out\n",
    "    alt_in = (start_alt[inside_flag] + vs[inside_flag] * t_in * dtlookahead) / ft\n",
    "    alt_out = (start_alt[inside_flag] + vs[inside_flag] * t_out * dtlookahead) / ft\n",
    "    # Check if the aircraft enters or crosses the area\n",
    "    below_in = alt_in < bottom\n",
    "    above_in = alt_in > top\n",
    "    below_out = alt_out < bottom\n",
    "    above_out = alt_out > top\n",
    "    not_crossing = (below_in & below_out) | (above_in & above_out)\n",
    "    inside_flag[inside_flag] = ~not_crossing\n",
    "\n",
    "    # debug\n",
    "    # print(distance, virtual_distance, t_close, delta_t)\n",
    "\n",
    "    return inside_flag"
   ]
  },
  {
   "cell_type": "code",
   "execution_count": 3,
   "metadata": {},
   "outputs": [],
   "source": [
    "ctr_lat = 30.0\n",
    "ctr_lon = 120.0\n",
    "radius = 5.0\n",
    "bottom = 6000\n",
    "top = 10000\n",
    "\n",
    "area_args = (bottom, top, ctr_lat, ctr_lon, radius)"
   ]
  },
  {
   "cell_type": "code",
   "execution_count": 4,
   "metadata": {},
   "outputs": [
    {
     "data": {
      "text/plain": [
       "(np.float64(29.905764983474565), np.float64(119.89134135729815))"
      ]
     },
     "execution_count": 4,
     "metadata": {},
     "output_type": "execute_result"
    }
   ],
   "source": [
    "qdrpos(30, 120, 225, 8)"
   ]
  },
  {
   "cell_type": "markdown",
   "metadata": {},
   "source": [
    "ACF 1: 10NM 180DEG from center, 360/3000/250  \n",
    "ACF 2: 8NM 225DEG from center, 015/8000/240, DES at -1500"
   ]
  },
  {
   "cell_type": "code",
   "execution_count": 41,
   "metadata": {},
   "outputs": [],
   "source": [
    "start_lat = np.array([29.833293, 29.905765])\n",
    "start_lon = np.array([120.0, 119.89134])\n",
    "start_alt = np.array([3000, 8000]) * ft\n",
    "trk = np.array([0, 15])\n",
    "gs = np.array([250, 240]) * kts\n",
    "vs = np.array([0, -2001]) * fpm"
   ]
  },
  {
   "cell_type": "code",
   "execution_count": 48,
   "metadata": {},
   "outputs": [
    {
     "name": "stdout",
     "output_type": "stream",
     "text": [
      "[0.        4.0052114] [0.        4.0052114] [0.80096988 0.60468581] [0.40000203 0.24941441]\n"
     ]
    },
    {
     "data": {
      "text/plain": [
       "array([False, False])"
      ]
     },
     "execution_count": 48,
     "metadata": {},
     "output_type": "execute_result"
    }
   ],
   "source": [
    "invasion_circle(start_lat, start_lon, start_alt, trk, gs, vs, 180, area_args)"
   ]
  },
  {
   "cell_type": "code",
   "execution_count": 45,
   "metadata": {},
   "outputs": [],
   "source": [
    "end_lat, end_lon = qdrpos(29.905765, 119.89134, 15, 240 / (3600 / 59))"
   ]
  },
  {
   "cell_type": "code",
   "execution_count": 46,
   "metadata": {},
   "outputs": [
    {
     "data": {
      "text/plain": [
       "(np.float64(-111.84831769320822), np.float64(4.9940234403932156))"
      ]
     },
     "execution_count": 46,
     "metadata": {},
     "output_type": "execute_result"
    }
   ],
   "source": [
    "qdrdist(ctr_lat, ctr_lon, end_lat, end_lon)"
   ]
  }
 ],
 "metadata": {
  "kernelspec": {
   "display_name": "venv",
   "language": "python",
   "name": "python3"
  },
  "language_info": {
   "codemirror_mode": {
    "name": "ipython",
    "version": 3
   },
   "file_extension": ".py",
   "mimetype": "text/x-python",
   "name": "python",
   "nbconvert_exporter": "python",
   "pygments_lexer": "ipython3",
   "version": "3.12.1"
  }
 },
 "nbformat": 4,
 "nbformat_minor": 2
}

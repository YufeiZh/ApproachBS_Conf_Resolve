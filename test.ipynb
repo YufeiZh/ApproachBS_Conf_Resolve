{
 "cells": [
  {
   "cell_type": "code",
   "execution_count": null,
   "metadata": {},
   "outputs": [],
   "source": [
    "import numpy as np\n",
    "from bluesky import traf, stack, settings\n",
    "from bluesky.tools.aero import ft, nm, kts\n",
    "from bluesky.tools.geo import qdrpos, latlondist"
   ]
  },
  {
   "cell_type": "code",
   "execution_count": null,
   "metadata": {},
   "outputs": [],
   "source": [
    "TOP = 18000     # Top altitude of TRACON in feet\n",
    "BOTTOM = 5000   # Bottom altitude of TRACON in feet"
   ]
  },
  {
   "cell_type": "code",
   "execution_count": null,
   "metadata": {},
   "outputs": [],
   "source": [
    "def init_plugin():\n",
    "    # Create plugin instance\n",
    "    global approachbs\n",
    "    approachbs = ApproachBS()\n",
    "    \n",
    "    # Configuration parameters\n",
    "    config = {\n",
    "        'plugin_name': 'APPROACHBS',\n",
    "        'plugin_type': 'sim',\n",
    "        'update_interval': 0.1,  # Update interval in seconds\n",
    "        'update': approachbs.update,  # Update function\n",
    "        'preupdate': approachbs.preupdate,  # Preupdate function\n",
    "        'reset': approachbs.reset  # Reset function\n",
    "    }\n",
    "    \n",
    "    return config\n"
   ]
  },
  {
   "cell_type": "code",
   "execution_count": 9,
   "metadata": {},
   "outputs": [
    {
     "name": "stdout",
     "output_type": "stream",
     "text": [
      "<class 'bluesky.simulation.screenio.ScreenIO'>\n"
     ]
    }
   ],
   "source": [
    "import bluesky as bs\n",
    "print(bs.scr.__class__)"
   ]
  },
  {
   "cell_type": "code",
   "execution_count": 10,
   "metadata": {},
   "outputs": [
    {
     "name": "stdout",
     "output_type": "stream",
     "text": [
      "c:\\myprojects\\venv\\Lib\\site-packages\\bluesky\\simulation\\screenio.py\n"
     ]
    }
   ],
   "source": [
    "import inspect\n",
    "print(inspect.getfile(bs.scr.__class__))"
   ]
  }
 ],
 "metadata": {
  "kernelspec": {
   "display_name": "venv",
   "language": "python",
   "name": "python3"
  },
  "language_info": {
   "codemirror_mode": {
    "name": "ipython",
    "version": 3
   },
   "file_extension": ".py",
   "mimetype": "text/x-python",
   "name": "python",
   "nbconvert_exporter": "python",
   "pygments_lexer": "ipython3",
   "version": "3.12.1"
  }
 },
 "nbformat": 4,
 "nbformat_minor": 2
}

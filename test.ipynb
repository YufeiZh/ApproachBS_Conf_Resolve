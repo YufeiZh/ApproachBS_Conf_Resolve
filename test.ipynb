{
 "cells": [
  {
   "cell_type": "code",
   "execution_count": 27,
   "metadata": {},
   "outputs": [],
   "source": [
    "from matplotlib.path import Path\n",
    "import numpy as np\n",
    "from bluesky.tools.aero import ft, nm, kts\n",
    "from bluesky.tools.geo import qdrpos, qdrdist"
   ]
  },
  {
   "cell_type": "code",
   "execution_count": null,
   "metadata": {},
   "outputs": [],
   "source": [
    "def invasion_circle(start_lat, start_lon, start_alt, trk, gs, vs, dtlookahead, area_args):\n",
    "    \"\"\"\n",
    "    Predict the invasion of a circular area.\n",
    "    \"\"\"\n",
    "    \n",
    "    bottom, top, ctr_lat, ctr_lon, radius = area_args\n",
    "\n",
    "    # Ray endpoints\n",
    "    end_lat, end_lon = qdrpos(start_lat, start_lon, trk, gs * dtlookahead / nm)\n",
    "\n",
    "    # Vectors\n",
    "    startpoints = np.stack([start_lat, start_lon], axis=1)\n",
    "    endpoints = np.stack([end_lat, end_lon], axis=1)\n",
    "    seg_vectors = endpoints - startpoints       # Vectors from start to end point\n",
    "    seg_vec_norm = np.linalg.norm(seg_vectors, axis=1)      # Norm of the vectors\n",
    "\n",
    "    # calculate the projection (of the startpoint-center vector) vector on the ray vector\n",
    "    start_center_vecs = np.array([[ctr_lat, ctr_lon]]) - startpoints\n",
    "    t_close = np.einsum('ij,ij->i', seg_vectors, start_center_vecs) / seg_vec_norm**2\n",
    "    t_clamped = np.clip(t_close, 0, 1)  # Clamp t to [0, 1]\n",
    "    closest_points = startpoints + t_clamped[:, np.newaxis] * seg_vectors  # Closest points on the segment to the center of the area\n",
    "    _, distance = qdrdist(closest_points[:, 0], closest_points[:, 1], ctr_lat, ctr_lon)\n",
    "    # Check if the closest point is within the radius of the area\n",
    "    inside_flag = distance < radius\n",
    "    # Get t_in and t_out\n",
    "    virtual_closest = startpoints + t_close[:, np.newaxis] * seg_vectors\n",
    "    _, virtual_distance = qdrdist(virtual_closest[:, 0], virtual_closest[:, 1], ctr_lat, ctr_lon)\n",
    "    # Use Pythagorean\n",
    "    _, dist_start_virtual = qdrdist(start_lat, start_lon, virtual_closest[:, 0], virtual_closest[:, 1])\n",
    "    delta_t = np.where(inside_flag, np.sqrt(radius**2 - virtual_distance**2) / dist_start_virtual * t_close, -1)\n",
    "    t_in = np.where(inside_flag, t_close - delta_t, -1)\n",
    "    t_out = np.where(inside_flag, t_close + delta_t, -1)\n",
    "    t_in[inside_flag] = np.clip(t_in[inside_flag], 0, 1)    # Clamp to [0, 1]\n",
    "    t_out[inside_flag] = np.clip(t_out[inside_flag], 0, 1)  # Clamp to [0, 1]\n",
    "    # Get the altitude at t_in and t_out\n",
    "    alt_in = np.where(inside_flag, (start_alt + vs * t_in * dtlookahead) / ft, -1)\n",
    "    alt_out = np.where(inside_flag, (start_alt + vs * t_out * dtlookahead) / ft, -1)\n",
    "    # Check if the aircraft enters or crosses the area\n",
    "    below_in = alt_in[inside_flag] < bottom\n",
    "    above_in = alt_in[inside_flag] > top\n",
    "    below_out = alt_out[inside_flag] < bottom\n",
    "    above_out = alt_out[inside_flag] > top\n",
    "    not_crossing = (below_in & below_out) | (above_in & above_out)\n",
    "    inside_flag[inside_flag] = ~not_crossing\n",
    "\n",
    "    # debug\n",
    "    print(alt_in, alt_out)\n",
    "\n",
    "    return inside_flag"
   ]
  },
  {
   "cell_type": "code",
   "execution_count": 3,
   "metadata": {},
   "outputs": [],
   "source": [
    "ctr_lat = 30.0\n",
    "ctr_lon = 120.0\n",
    "radius = 5.0\n",
    "bottom = 6000\n",
    "top = 10000\n",
    "\n",
    "area_args = (bottom, top, ctr_lat, ctr_lon, radius)"
   ]
  },
  {
   "cell_type": "markdown",
   "metadata": {},
   "source": [
    "ACF 1: 10NM 180DEG of center, 360/3000/250"
   ]
  },
  {
   "cell_type": "code",
   "execution_count": 71,
   "metadata": {},
   "outputs": [],
   "source": [
    "start_lat = 29.833293\n",
    "start_lon = 120.0\n",
    "start_alt = 3000 * ft\n",
    "trk = 0\n",
    "gs = 250 * kts\n",
    "vs = 0"
   ]
  },
  {
   "cell_type": "code",
   "execution_count": 72,
   "metadata": {},
   "outputs": [
    {
     "name": "stdout",
     "output_type": "stream",
     "text": [
      "[3000.] [3000.]\n"
     ]
    },
    {
     "data": {
      "text/plain": [
       "array([False])"
      ]
     },
     "execution_count": 72,
     "metadata": {},
     "output_type": "execute_result"
    }
   ],
   "source": [
    "invasion_circle(np.array([start_lat]), np.array([start_lon]), np.array([start_alt]), np.array([trk]), np.array([gs]), np.array([vs]), 600, area_args)"
   ]
  },
  {
   "cell_type": "code",
   "execution_count": 29,
   "metadata": {},
   "outputs": [],
   "source": [
    "end_lat, end_lon = qdrpos(start_lat, start_lon, trk, gs * 15 / nm)"
   ]
  },
  {
   "cell_type": "code",
   "execution_count": 31,
   "metadata": {},
   "outputs": [
    {
     "data": {
      "text/plain": [
       "(np.float64(180.0), np.float64(8.97040754584087))"
      ]
     },
     "execution_count": 31,
     "metadata": {},
     "output_type": "execute_result"
    }
   ],
   "source": [
    "qdrdist(ctr_lat, ctr_lon, end_lat, end_lon)"
   ]
  }
 ],
 "metadata": {
  "kernelspec": {
   "display_name": "venv",
   "language": "python",
   "name": "python3"
  },
  "language_info": {
   "codemirror_mode": {
    "name": "ipython",
    "version": 3
   },
   "file_extension": ".py",
   "mimetype": "text/x-python",
   "name": "python",
   "nbconvert_exporter": "python",
   "pygments_lexer": "ipython3",
   "version": "3.12.1"
  }
 },
 "nbformat": 4,
 "nbformat_minor": 2
}

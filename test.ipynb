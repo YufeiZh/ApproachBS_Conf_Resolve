{
 "cells": [
  {
   "cell_type": "code",
   "execution_count": 1,
   "metadata": {},
   "outputs": [
    {
     "name": "stdout",
     "output_type": "stream",
     "text": [
      "Using Python-based geo functions\n"
     ]
    }
   ],
   "source": [
    "import numpy as np\n",
    "import bluesky as bs\n",
    "from bluesky import traf, stack, settings\n",
    "from bluesky.tools.aero import ft, nm, kts\n",
    "from bluesky.tools.geo import qdrpos, latlondist\n",
    "from bluesky import navdb"
   ]
  },
  {
   "cell_type": "code",
   "execution_count": 2,
   "metadata": {},
   "outputs": [],
   "source": [
    "TOP = 18000     # Top altitude of TRACON in feet\n",
    "BOTTOM = 5000   # Bottom altitude of TRACON in feet"
   ]
  },
  {
   "cell_type": "code",
   "execution_count": null,
   "metadata": {},
   "outputs": [],
   "source": [
    "def init_plugin():\n",
    "    # Create plugin instance\n",
    "    global approachbs\n",
    "    approachbs = ApproachBS()\n",
    "    \n",
    "    # Configuration parameters\n",
    "    config = {\n",
    "        'plugin_name': 'APPROACHBS',\n",
    "        'plugin_type': 'sim',\n",
    "        'update_interval': 0.1,  # Update interval in seconds\n",
    "        'update': approachbs.update,  # Update function\n",
    "        'preupdate': approachbs.preupdate,  # Preupdate function\n",
    "        'reset': approachbs.reset  # Reset function\n",
    "    }\n",
    "    \n",
    "    return config\n"
   ]
  },
  {
   "cell_type": "code",
   "execution_count": 9,
   "metadata": {},
   "outputs": [
    {
     "name": "stdout",
     "output_type": "stream",
     "text": [
      "<class 'bluesky.simulation.screenio.ScreenIO'>\n"
     ]
    }
   ],
   "source": [
    "import bluesky as bs\n",
    "print(bs.scr.__class__)"
   ]
  },
  {
   "cell_type": "code",
   "execution_count": 10,
   "metadata": {},
   "outputs": [
    {
     "name": "stdout",
     "output_type": "stream",
     "text": [
      "c:\\myprojects\\venv\\Lib\\site-packages\\bluesky\\simulation\\screenio.py\n"
     ]
    }
   ],
   "source": [
    "import inspect\n",
    "print(inspect.getfile(bs.scr.__class__))"
   ]
  },
  {
   "cell_type": "code",
   "execution_count": 61,
   "metadata": {},
   "outputs": [
    {
     "data": {
      "text/plain": [
       "114"
      ]
     },
     "execution_count": 61,
     "metadata": {},
     "output_type": "execute_result"
    }
   ],
   "source": [
    "airport_codes = [\n",
    "    \"KATL\", \"KLAX\", \"KORD\", \"EGLL\", \"RJTT\", \"LFPG\", \"OMDB\", \"ZSPD\", \"VHHH\", \"EDDF\",\n",
    "    \"WSSS\", \"KJFK\", \"RKSI\", \"VTBS\", \"KDFW\", \"LTBA\", \"EHAM\", \"WMKK\", \"VIDP\", \"KLAS\",\n",
    "    \"KSFO\", \"YSSY\", \"KSEA\", \"CYYZ\", \"SBGR\", \"LEMD\", \"UUEE\", \"FACT\", \"EKCH\", \"LIRF\",\n",
    "    \"YMML\", \"VABB\", \"RJAA\", \"KIAH\", \"EDDM\", \"KMIA\", \"LSZH\", \"OMAA\", \"KPHX\", \"LEBL\",\n",
    "    \"KEWR\", \"VTSF\", \"KPDX\", \"KDTW\", \"RCKH\", \"ZBAA\", \"RCTP\", \"KPHL\", \"KCLT\", \"SAEZ\",\n",
    "    \"MMMX\", \"LTAC\", \"LGAV\", \"BIKF\", \"EGKK\", \"RJOO\", \"KDEN\", \"LIMC\", \"TNCM\", \"CYUL\",\n",
    "    \"KMSY\", \"LOWW\", \"VECC\", \"EFHK\", \"KDCA\", \"SBGL\", \"ENGM\", \"KSTL\", \"LPPT\", \"KMCO\",\n",
    "    \"WIII\", \"VTBD\", \"LFPO\", \"RJCC\", \"ZGGG\", \"ZSHC\", \"VOBL\", \"VOTV\", \"KTPA\", \"LTFE\",\n",
    "    \"LIPZ\", \"EDDH\", \"EDLW\", \"EDDS\", \"LTAI\", \"LGTS\", \"LIRN\", \"LBSF\", \"LZIB\", \"EPWA\",\n",
    "    \"LJLJ\", \"EIDW\", \"LPPR\", \"LEAL\", \"ZSAM\", \"GCFV\", \"GCLP\", \"LPFR\", \"LGRP\", \"LGIR\",\n",
    "    \"LHBP\", \"LKPR\", \"EPKT\", \"LROP\", \"ZUUU\", \"HECA\", \"LOWI\", \"HAAB\", \"LFLL\", \"LTFJ\",\n",
    "    \"PANC\", \"LFBO\", \"CYVR\", \"EGCC\"\n",
    "]\n",
    "len(airport_codes)"
   ]
  },
  {
   "cell_type": "code",
   "execution_count": 62,
   "metadata": {},
   "outputs": [
    {
     "data": {
      "text/plain": [
       "114"
      ]
     },
     "execution_count": 62,
     "metadata": {},
     "output_type": "execute_result"
    }
   ],
   "source": [
    "len(set(airport_codes))"
   ]
  },
  {
   "cell_type": "code",
   "execution_count": 3,
   "metadata": {},
   "outputs": [
    {
     "name": "stdout",
     "output_type": "stream",
     "text": [
      "Reading config from C:\\Users\\zyf36\\bluesky\\settings.cfg\n",
      "Reading magnetic variation data\n",
      "Warning: RTree could not be loaded. areafilter get_intersecting and get_knearest won't work\n",
      "Loading global navigation database...\n",
      "Reading cache: C:\\Users\\zyf36\\bluesky\\cache\\navdata.p\n",
      "Successfully loaded OpenAP performance model\n",
      "Failed to load BADA performance model\n",
      "Successfully loaded legacy performance model\n",
      "Successfully loaded plugin AREA\n",
      "Successfully loaded plugin DATAFEED\n"
     ]
    }
   ],
   "source": [
    "bs.init()"
   ]
  },
  {
   "cell_type": "code",
   "execution_count": 63,
   "metadata": {},
   "outputs": [],
   "source": [
    "for apt in airport_codes:\n",
    "    if bs.navdb.getaptidx(apt) == -1:\n",
    "        print(f\"Airport {apt} not found in the database.\")"
   ]
  },
  {
   "cell_type": "code",
   "execution_count": 4,
   "metadata": {},
   "outputs": [
    {
     "data": {
      "text/plain": [
       "4102"
      ]
     },
     "execution_count": 4,
     "metadata": {},
     "output_type": "execute_result"
    }
   ],
   "source": [
    "bs.navdb.getaptidx(\"KOAK\")"
   ]
  }
 ],
 "metadata": {
  "kernelspec": {
   "display_name": "venv",
   "language": "python",
   "name": "python3"
  },
  "language_info": {
   "codemirror_mode": {
    "name": "ipython",
    "version": 3
   },
   "file_extension": ".py",
   "mimetype": "text/x-python",
   "name": "python",
   "nbconvert_exporter": "python",
   "pygments_lexer": "ipython3",
   "version": "3.12.1"
  }
 },
 "nbformat": 4,
 "nbformat_minor": 2
}
